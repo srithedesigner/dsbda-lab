{
  "nbformat": 4,
  "nbformat_minor": 0,
  "metadata": {
    "colab": {
      "name": "TextAnalytics.ipynb",
      "provenance": []
    },
    "kernelspec": {
      "name": "python3",
      "display_name": "Python 3"
    },
    "language_info": {
      "name": "python"
    }
  },
  "cells": [
    {
      "cell_type": "code",
      "execution_count": 4,
      "metadata": {
        "id": "96y9icR7exPv"
      },
      "outputs": [],
      "source": [
        "Paragraph = \"\"\"\n",
        "French: one of the world's major languages\n",
        "\n",
        "Index\tStatus of French\tHistory\tFranglais\n",
        "Regional variants\tGrammar\tVocabulary\n",
        "The status of French\n",
        "French is one of the world’s major languages. It is a main or official language not just in France, but in parts of Belgium and Switzerland, in Monaco, in parts of Canada – notably but not only in Quebec – as well as being widely spoken in north and west Africa, Lebanon, and parts of south-east Asia, particularly in former French colonies. It is an official or a main second language in 55 countries worldwide, and is reputed to be the foreign language which is most widely used in international communications, after English. Almost 300 million people speak French as their native language or as a second language.\n",
        "Until the early twentieth century, French was the language of diplomacy, and one of the two main languages of international negotiation; today it is one of the six official languages of the United Nations, and one of the two official languages, with English, of the International Postal Union, of the International Olympic Committee, the International Red Cross, and other organisations. It is also an official language in the Channel Islands of Jersey and Guernsey.\n",
        "\"\"\""
      ]
    },
    {
      "cell_type": "code",
      "source": [
        "import nltk\n",
        "import re"
      ],
      "metadata": {
        "id": "SNCLA27YfoCE"
      },
      "execution_count": 5,
      "outputs": []
    },
    {
      "cell_type": "code",
      "source": [
        "tokens = re.findall(\"[\\w]+\", Paragraph)\n",
        "print(tokens)"
      ],
      "metadata": {
        "colab": {
          "base_uri": "https://localhost:8080/"
        },
        "id": "FXDhl1Xtf_B1",
        "outputId": "bb8ccd4a-8919-4a29-efab-b0321b4bebf9"
      },
      "execution_count": 6,
      "outputs": [
        {
          "output_type": "stream",
          "name": "stdout",
          "text": [
            "['French', 'one', 'of', 'the', 'world', 's', 'major', 'languages', 'Index', 'Status', 'of', 'French', 'History', 'Franglais', 'Regional', 'variants', 'Grammar', 'Vocabulary', 'The', 'status', 'of', 'French', 'French', 'is', 'one', 'of', 'the', 'world', 's', 'major', 'languages', 'It', 'is', 'a', 'main', 'or', 'official', 'language', 'not', 'just', 'in', 'France', 'but', 'in', 'parts', 'of', 'Belgium', 'and', 'Switzerland', 'in', 'Monaco', 'in', 'parts', 'of', 'Canada', 'notably', 'but', 'not', 'only', 'in', 'Quebec', 'as', 'well', 'as', 'being', 'widely', 'spoken', 'in', 'north', 'and', 'west', 'Africa', 'Lebanon', 'and', 'parts', 'of', 'south', 'east', 'Asia', 'particularly', 'in', 'former', 'French', 'colonies', 'It', 'is', 'an', 'official', 'or', 'a', 'main', 'second', 'language', 'in', '55', 'countries', 'worldwide', 'and', 'is', 'reputed', 'to', 'be', 'the', 'foreign', 'language', 'which', 'is', 'most', 'widely', 'used', 'in', 'international', 'communications', 'after', 'English', 'Almost', '300', 'million', 'people', 'speak', 'French', 'as', 'their', 'native', 'language', 'or', 'as', 'a', 'second', 'language', 'Until', 'the', 'early', 'twentieth', 'century', 'French', 'was', 'the', 'language', 'of', 'diplomacy', 'and', 'one', 'of', 'the', 'two', 'main', 'languages', 'of', 'international', 'negotiation', 'today', 'it', 'is', 'one', 'of', 'the', 'six', 'official', 'languages', 'of', 'the', 'United', 'Nations', 'and', 'one', 'of', 'the', 'two', 'official', 'languages', 'with', 'English', 'of', 'the', 'International', 'Postal', 'Union', 'of', 'the', 'International', 'Olympic', 'Committee', 'the', 'International', 'Red', 'Cross', 'and', 'other', 'organisations', 'It', 'is', 'also', 'an', 'official', 'language', 'in', 'the', 'Channel', 'Islands', 'of', 'Jersey', 'and', 'Guernsey']\n"
          ]
        }
      ]
    },
    {
      "cell_type": "code",
      "source": [
        "from nltk.tokenize import word_tokenize\n",
        "nltk.download('punkt')\n",
        "nltk.download('stopwords')\n",
        "nltk.download('averaged_perceptron_tagger')\n",
        "nltk.download('wordnet')"
      ],
      "metadata": {
        "colab": {
          "base_uri": "https://localhost:8080/"
        },
        "id": "ZOcju_fuhQNt",
        "outputId": "e2cb4415-0ecc-4da5-c2b3-daf8cbec1a0b"
      },
      "execution_count": 27,
      "outputs": [
        {
          "output_type": "stream",
          "name": "stdout",
          "text": [
            "[nltk_data] Downloading package punkt to /root/nltk_data...\n",
            "[nltk_data]   Package punkt is already up-to-date!\n",
            "[nltk_data] Downloading package stopwords to /root/nltk_data...\n",
            "[nltk_data]   Package stopwords is already up-to-date!\n",
            "[nltk_data] Downloading package averaged_perceptron_tagger to\n",
            "[nltk_data]     /root/nltk_data...\n",
            "[nltk_data]   Package averaged_perceptron_tagger is already up-to-\n",
            "[nltk_data]       date!\n",
            "[nltk_data] Downloading package wordnet to /root/nltk_data...\n",
            "[nltk_data]   Unzipping corpora/wordnet.zip.\n"
          ]
        },
        {
          "output_type": "execute_result",
          "data": {
            "text/plain": [
              "True"
            ]
          },
          "metadata": {},
          "execution_count": 27
        }
      ]
    },
    {
      "cell_type": "code",
      "source": [
        "tokens = word_tokenize(Paragraph)\n",
        "print(tokens)"
      ],
      "metadata": {
        "colab": {
          "base_uri": "https://localhost:8080/"
        },
        "id": "juNd_oIJhce1",
        "outputId": "23ac42c8-cb10-4f49-f9c3-77e3a91cff43"
      },
      "execution_count": 13,
      "outputs": [
        {
          "output_type": "stream",
          "name": "stdout",
          "text": [
            "['French', ':', 'one', 'of', 'the', 'world', \"'s\", 'major', 'languages', 'Index', 'Status', 'of', 'French', 'History', 'Franglais', 'Regional', 'variants', 'Grammar', 'Vocabulary', 'The', 'status', 'of', 'French', 'French', 'is', 'one', 'of', 'the', 'world', '’', 's', 'major', 'languages', '.', 'It', 'is', 'a', 'main', 'or', 'official', 'language', 'not', 'just', 'in', 'France', ',', 'but', 'in', 'parts', 'of', 'Belgium', 'and', 'Switzerland', ',', 'in', 'Monaco', ',', 'in', 'parts', 'of', 'Canada', '–', 'notably', 'but', 'not', 'only', 'in', 'Quebec', '–', 'as', 'well', 'as', 'being', 'widely', 'spoken', 'in', 'north', 'and', 'west', 'Africa', ',', 'Lebanon', ',', 'and', 'parts', 'of', 'south-east', 'Asia', ',', 'particularly', 'in', 'former', 'French', 'colonies', '.', 'It', 'is', 'an', 'official', 'or', 'a', 'main', 'second', 'language', 'in', '55', 'countries', 'worldwide', ',', 'and', 'is', 'reputed', 'to', 'be', 'the', 'foreign', 'language', 'which', 'is', 'most', 'widely', 'used', 'in', 'international', 'communications', ',', 'after', 'English', '.', 'Almost', '300', 'million', 'people', 'speak', 'French', 'as', 'their', 'native', 'language', 'or', 'as', 'a', 'second', 'language', '.', 'Until', 'the', 'early', 'twentieth', 'century', ',', 'French', 'was', 'the', 'language', 'of', 'diplomacy', ',', 'and', 'one', 'of', 'the', 'two', 'main', 'languages', 'of', 'international', 'negotiation', ';', 'today', 'it', 'is', 'one', 'of', 'the', 'six', 'official', 'languages', 'of', 'the', 'United', 'Nations', ',', 'and', 'one', 'of', 'the', 'two', 'official', 'languages', ',', 'with', 'English', ',', 'of', 'the', 'International', 'Postal', 'Union', ',', 'of', 'the', 'International', 'Olympic', 'Committee', ',', 'the', 'International', 'Red', 'Cross', ',', 'and', 'other', 'organisations', '.', 'It', 'is', 'also', 'an', 'official', 'language', 'in', 'the', 'Channel', 'Islands', 'of', 'Jersey', 'and', 'Guernsey', '.']\n"
          ]
        }
      ]
    },
    {
      "cell_type": "code",
      "source": [
        "from nltk.corpus import stopwords"
      ],
      "metadata": {
        "id": "pns7Joguhga3"
      },
      "execution_count": 9,
      "outputs": []
    },
    {
      "cell_type": "code",
      "source": [
        "stop_words = set(stopwords.words('english'))"
      ],
      "metadata": {
        "id": "drzczal2h5FY"
      },
      "execution_count": 10,
      "outputs": []
    },
    {
      "cell_type": "code",
      "source": [
        "words = [word for word in tokens if word not in stop_words]"
      ],
      "metadata": {
        "id": "f7SiOu5bh707"
      },
      "execution_count": 12,
      "outputs": []
    },
    {
      "cell_type": "code",
      "source": [
        "pos = nltk.pos_tag(words)"
      ],
      "metadata": {
        "id": "FEPsMOfNiyII"
      },
      "execution_count": 16,
      "outputs": []
    },
    {
      "cell_type": "code",
      "source": [
        "pos"
      ],
      "metadata": {
        "colab": {
          "base_uri": "https://localhost:8080/"
        },
        "id": "65nabMKxi4hm",
        "outputId": "a2fdd262-b5a0-4cc9-c52c-59135f58462e"
      },
      "execution_count": 17,
      "outputs": [
        {
          "output_type": "execute_result",
          "data": {
            "text/plain": [
              "[('French', 'JJ'),\n",
              " ('one', 'CD'),\n",
              " ('world', 'NN'),\n",
              " ('major', 'JJ'),\n",
              " ('languages', 'NNS'),\n",
              " ('Index', 'NNP'),\n",
              " ('Status', 'NNP'),\n",
              " ('French', 'NNP'),\n",
              " ('History', 'NNP'),\n",
              " ('Franglais', 'NNP'),\n",
              " ('Regional', 'NNP'),\n",
              " ('variants', 'NNS'),\n",
              " ('Grammar', 'NNP'),\n",
              " ('Vocabulary', 'NNP'),\n",
              " ('The', 'DT'),\n",
              " ('status', 'NN'),\n",
              " ('French', 'JJ'),\n",
              " ('French', 'NNP'),\n",
              " ('one', 'CD'),\n",
              " ('world', 'NN'),\n",
              " ('major', 'JJ'),\n",
              " ('languages', 'NNS'),\n",
              " ('It', 'PRP'),\n",
              " ('main', 'JJ'),\n",
              " ('official', 'JJ'),\n",
              " ('language', 'NN'),\n",
              " ('France', 'NNP'),\n",
              " ('parts', 'NNS'),\n",
              " ('Belgium', 'NNP'),\n",
              " ('Switzerland', 'NNP'),\n",
              " ('Monaco', 'NNP'),\n",
              " ('parts', 'NNS'),\n",
              " ('Canada', 'NNP'),\n",
              " ('notably', 'RB'),\n",
              " ('Quebec', 'NNP'),\n",
              " ('well', 'RB'),\n",
              " ('widely', 'RB'),\n",
              " ('spoken', 'VBN'),\n",
              " ('north', 'JJ'),\n",
              " ('west', 'NN'),\n",
              " ('Africa', 'NNP'),\n",
              " ('Lebanon', 'NNP'),\n",
              " ('parts', 'NNS'),\n",
              " ('south', 'VBD'),\n",
              " ('east', 'JJ'),\n",
              " ('Asia', 'NNP'),\n",
              " ('particularly', 'RB'),\n",
              " ('former', 'JJ'),\n",
              " ('French', 'JJ'),\n",
              " ('colonies', 'NNS'),\n",
              " ('It', 'PRP'),\n",
              " ('official', 'JJ'),\n",
              " ('main', 'JJ'),\n",
              " ('second', 'JJ'),\n",
              " ('language', 'NN'),\n",
              " ('55', 'CD'),\n",
              " ('countries', 'NNS'),\n",
              " ('worldwide', 'RB'),\n",
              " ('reputed', 'VBD'),\n",
              " ('foreign', 'JJ'),\n",
              " ('language', 'NN'),\n",
              " ('widely', 'RB'),\n",
              " ('used', 'VBD'),\n",
              " ('international', 'JJ'),\n",
              " ('communications', 'NNS'),\n",
              " ('English', 'NNP'),\n",
              " ('Almost', '$'),\n",
              " ('300', 'CD'),\n",
              " ('million', 'CD'),\n",
              " ('people', 'NNS'),\n",
              " ('speak', 'JJ'),\n",
              " ('French', 'JJ'),\n",
              " ('native', 'JJ'),\n",
              " ('language', 'NN'),\n",
              " ('second', 'JJ'),\n",
              " ('language', 'NN'),\n",
              " ('Until', 'IN'),\n",
              " ('early', 'JJ'),\n",
              " ('twentieth', 'JJ'),\n",
              " ('century', 'NN'),\n",
              " ('French', 'JJ'),\n",
              " ('language', 'NN'),\n",
              " ('diplomacy', 'NN'),\n",
              " ('one', 'CD'),\n",
              " ('two', 'CD'),\n",
              " ('main', 'JJ'),\n",
              " ('languages', 'NNS'),\n",
              " ('international', 'JJ'),\n",
              " ('negotiation', 'NN'),\n",
              " ('today', 'NN'),\n",
              " ('one', 'CD'),\n",
              " ('six', 'CD'),\n",
              " ('official', 'NN'),\n",
              " ('languages', 'NNS'),\n",
              " ('United', 'NNP'),\n",
              " ('Nations', 'NNPS'),\n",
              " ('one', 'CD'),\n",
              " ('two', 'CD'),\n",
              " ('official', 'NN'),\n",
              " ('languages', 'NNS'),\n",
              " ('English', 'NNP'),\n",
              " ('International', 'NNP'),\n",
              " ('Postal', 'NNP'),\n",
              " ('Union', 'NNP'),\n",
              " ('International', 'NNP'),\n",
              " ('Olympic', 'NNP'),\n",
              " ('Committee', 'NNP'),\n",
              " ('International', 'NNP'),\n",
              " ('Red', 'NNP'),\n",
              " ('Cross', 'NNP'),\n",
              " ('organisations', 'NNS'),\n",
              " ('It', 'PRP'),\n",
              " ('also', 'RB'),\n",
              " ('official', 'JJ'),\n",
              " ('language', 'NN'),\n",
              " ('Channel', 'NNP'),\n",
              " ('Islands', 'VBZ'),\n",
              " ('Jersey', 'NNP'),\n",
              " ('Guernsey', 'NNP')]"
            ]
          },
          "metadata": {},
          "execution_count": 17
        }
      ]
    },
    {
      "cell_type": "code",
      "source": [
        "index = \"\"\"\n",
        "CC coordinating conjunction \n",
        "CD cardinal digit \n",
        "DT determiner \n",
        "EX existential there (like: “there is” … think of it like “there exists”) \n",
        "FW foreign word \n",
        "IN preposition/subordinating conjunction \n",
        "JJ adjective – ‘big’ \n",
        "JJR adjective, comparative – ‘bigger’ \n",
        "JJS adjective, superlative – ‘biggest’ \n",
        "LS list marker 1) \n",
        "MD modal – could, will \n",
        "NN noun, singular ‘- desk’ \n",
        "NNS noun plural – ‘desks’ \n",
        "NNP proper noun, singular – ‘Harrison’ \n",
        "NNPS proper noun, plural – ‘Americans’ \n",
        "PDT predeterminer – ‘all the kids’ \n",
        "POS possessive ending parent’s \n",
        "PRP personal pronoun –  I, he, she \n",
        "PRP$ possessive pronoun – my, his, hers \n",
        "RB adverb – very, silently, \n",
        "RBR adverb, comparative – better \n",
        "RBS adverb, superlative – best \n",
        "RP particle – give up \n",
        "TO – to go ‘to’ the store. \n",
        "UH interjection – errrrrrrrm \n",
        "VB verb, base form – take \n",
        "VBD verb, past tense – took \n",
        "VBG verb, gerund/present participle – taking \n",
        "VBN verb, past participle – taken \n",
        "VBP verb, sing. present, non-3d – take \n",
        "VBZ verb, 3rd person sing. present – takes \n",
        "WDT wh-determiner – which \n",
        "WP wh-pronoun – who, what \n",
        "WP$ possessive wh-pronoun, eg- whose \n",
        "WRB wh-adverb, eg- where, when\n",
        "\"\"\"\n"
      ],
      "metadata": {
        "id": "ZOYgTNBGjMzd"
      },
      "execution_count": 19,
      "outputs": []
    },
    {
      "cell_type": "code",
      "source": [
        "from nltk.stem import PorterStemmer"
      ],
      "metadata": {
        "id": "8ie1lLy0jVpi"
      },
      "execution_count": 20,
      "outputs": []
    },
    {
      "cell_type": "code",
      "source": [
        "ps = PorterStemmer()"
      ],
      "metadata": {
        "id": "JjMdiefNjfxS"
      },
      "execution_count": 21,
      "outputs": []
    },
    {
      "cell_type": "code",
      "source": [
        "for word in words:\n",
        "  print(ps.stem(word))"
      ],
      "metadata": {
        "colab": {
          "base_uri": "https://localhost:8080/"
        },
        "id": "CqpEIkeLjjuZ",
        "outputId": "d90f7ba1-583f-437e-e325-aea08792e6fe"
      },
      "execution_count": 23,
      "outputs": [
        {
          "output_type": "stream",
          "name": "stdout",
          "text": [
            "french\n",
            "one\n",
            "world\n",
            "major\n",
            "languag\n",
            "index\n",
            "statu\n",
            "french\n",
            "histori\n",
            "franglai\n",
            "region\n",
            "variant\n",
            "grammar\n",
            "vocabulari\n",
            "the\n",
            "statu\n",
            "french\n",
            "french\n",
            "one\n",
            "world\n",
            "major\n",
            "languag\n",
            "It\n",
            "main\n",
            "offici\n",
            "languag\n",
            "franc\n",
            "part\n",
            "belgium\n",
            "switzerland\n",
            "monaco\n",
            "part\n",
            "canada\n",
            "notabl\n",
            "quebec\n",
            "well\n",
            "wide\n",
            "spoken\n",
            "north\n",
            "west\n",
            "africa\n",
            "lebanon\n",
            "part\n",
            "south\n",
            "east\n",
            "asia\n",
            "particularli\n",
            "former\n",
            "french\n",
            "coloni\n",
            "It\n",
            "offici\n",
            "main\n",
            "second\n",
            "languag\n",
            "55\n",
            "countri\n",
            "worldwid\n",
            "reput\n",
            "foreign\n",
            "languag\n",
            "wide\n",
            "use\n",
            "intern\n",
            "commun\n",
            "english\n",
            "almost\n",
            "300\n",
            "million\n",
            "peopl\n",
            "speak\n",
            "french\n",
            "nativ\n",
            "languag\n",
            "second\n",
            "languag\n",
            "until\n",
            "earli\n",
            "twentieth\n",
            "centuri\n",
            "french\n",
            "languag\n",
            "diplomaci\n",
            "one\n",
            "two\n",
            "main\n",
            "languag\n",
            "intern\n",
            "negoti\n",
            "today\n",
            "one\n",
            "six\n",
            "offici\n",
            "languag\n",
            "unit\n",
            "nation\n",
            "one\n",
            "two\n",
            "offici\n",
            "languag\n",
            "english\n",
            "intern\n",
            "postal\n",
            "union\n",
            "intern\n",
            "olymp\n",
            "committe\n",
            "intern\n",
            "red\n",
            "cross\n",
            "organis\n",
            "It\n",
            "also\n",
            "offici\n",
            "languag\n",
            "channel\n",
            "island\n",
            "jersey\n",
            "guernsey\n"
          ]
        }
      ]
    },
    {
      "cell_type": "code",
      "source": [
        "from nltk.stem import WordNetLemmatizer\n",
        "lemmatizer = WordNetLemmatizer()"
      ],
      "metadata": {
        "id": "4upA6e0vjmHW"
      },
      "execution_count": 25,
      "outputs": []
    },
    {
      "cell_type": "code",
      "source": [
        "for word in words:\n",
        "  print(lemmatizer.lemmatize(word))"
      ],
      "metadata": {
        "colab": {
          "base_uri": "https://localhost:8080/"
        },
        "id": "w2Uzn7IJkBR2",
        "outputId": "6913a2a6-7ff2-460b-f777-fbda5a04fa0c"
      },
      "execution_count": 28,
      "outputs": [
        {
          "output_type": "stream",
          "name": "stdout",
          "text": [
            "French\n",
            "one\n",
            "world\n",
            "major\n",
            "language\n",
            "Index\n",
            "Status\n",
            "French\n",
            "History\n",
            "Franglais\n",
            "Regional\n",
            "variant\n",
            "Grammar\n",
            "Vocabulary\n",
            "The\n",
            "status\n",
            "French\n",
            "French\n",
            "one\n",
            "world\n",
            "major\n",
            "language\n",
            "It\n",
            "main\n",
            "official\n",
            "language\n",
            "France\n",
            "part\n",
            "Belgium\n",
            "Switzerland\n",
            "Monaco\n",
            "part\n",
            "Canada\n",
            "notably\n",
            "Quebec\n",
            "well\n",
            "widely\n",
            "spoken\n",
            "north\n",
            "west\n",
            "Africa\n",
            "Lebanon\n",
            "part\n",
            "south\n",
            "east\n",
            "Asia\n",
            "particularly\n",
            "former\n",
            "French\n",
            "colony\n",
            "It\n",
            "official\n",
            "main\n",
            "second\n",
            "language\n",
            "55\n",
            "country\n",
            "worldwide\n",
            "reputed\n",
            "foreign\n",
            "language\n",
            "widely\n",
            "used\n",
            "international\n",
            "communication\n",
            "English\n",
            "Almost\n",
            "300\n",
            "million\n",
            "people\n",
            "speak\n",
            "French\n",
            "native\n",
            "language\n",
            "second\n",
            "language\n",
            "Until\n",
            "early\n",
            "twentieth\n",
            "century\n",
            "French\n",
            "language\n",
            "diplomacy\n",
            "one\n",
            "two\n",
            "main\n",
            "language\n",
            "international\n",
            "negotiation\n",
            "today\n",
            "one\n",
            "six\n",
            "official\n",
            "language\n",
            "United\n",
            "Nations\n",
            "one\n",
            "two\n",
            "official\n",
            "language\n",
            "English\n",
            "International\n",
            "Postal\n",
            "Union\n",
            "International\n",
            "Olympic\n",
            "Committee\n",
            "International\n",
            "Red\n",
            "Cross\n",
            "organisation\n",
            "It\n",
            "also\n",
            "official\n",
            "language\n",
            "Channel\n",
            "Islands\n",
            "Jersey\n",
            "Guernsey\n"
          ]
        }
      ]
    },
    {
      "cell_type": "code",
      "source": [
        "wordcloud = WordCloud(width = 800, height = 800,\n",
        "                background_color ='white',\n",
        "                stopwords = stopwords,\n",
        "                min_font_size = 10).generate(comment_words)"
      ],
      "metadata": {
        "colab": {
          "base_uri": "https://localhost:8080/",
          "height": 218
        },
        "id": "e3Ia15OCksbR",
        "outputId": "1fdf8dae-1419-41fb-ae23-0bba94cbb4c9"
      },
      "execution_count": 29,
      "outputs": [
        {
          "output_type": "error",
          "ename": "NameError",
          "evalue": "ignored",
          "traceback": [
            "\u001b[0;31m---------------------------------------------------------------------------\u001b[0m",
            "\u001b[0;31mNameError\u001b[0m                                 Traceback (most recent call last)",
            "\u001b[0;32m<ipython-input-29-e2de9c47e196>\u001b[0m in \u001b[0;36m<module>\u001b[0;34m()\u001b[0m\n\u001b[0;32m----> 1\u001b[0;31m wordcloud = WordCloud(width = 800, height = 800,\n\u001b[0m\u001b[1;32m      2\u001b[0m                 \u001b[0mbackground_color\u001b[0m \u001b[0;34m=\u001b[0m\u001b[0;34m'white'\u001b[0m\u001b[0;34m,\u001b[0m\u001b[0;34m\u001b[0m\u001b[0;34m\u001b[0m\u001b[0m\n\u001b[1;32m      3\u001b[0m                 \u001b[0mstopwords\u001b[0m \u001b[0;34m=\u001b[0m \u001b[0mstopwords\u001b[0m\u001b[0;34m,\u001b[0m\u001b[0;34m\u001b[0m\u001b[0;34m\u001b[0m\u001b[0m\n\u001b[1;32m      4\u001b[0m                 min_font_size = 10).generate(comment_words)\n",
            "\u001b[0;31mNameError\u001b[0m: name 'WordCloud' is not defined"
          ]
        }
      ]
    },
    {
      "cell_type": "code",
      "source": [
        ""
      ],
      "metadata": {
        "id": "vLJo-CGwmiiU"
      },
      "execution_count": null,
      "outputs": []
    }
  ]
}